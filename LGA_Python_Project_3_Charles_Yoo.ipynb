{
 "cells": [
  {
   "cell_type": "markdown",
   "id": "16b3ab17",
   "metadata": {},
   "source": [
    "# Project 3: NYC Car Collisons\n",
    "\n",
    "\n"
   ]
  },
  {
   "cell_type": "markdown",
   "id": "44484483",
   "metadata": {},
   "source": [
    "The Motor Vehicle Collisions crash table contains details on the crash event. Each row represents a crash event. The Motor Vehicle Collisions data tables contain information from all police reported motor vehicle collisions in NYC. The police report (MV104-AN) is required to be filled out for collisions where someone is injured or killed, or where there is at least $1000 worth of damage \n",
    "\n",
    "https://data.cityofnewyork.us/Public-Safety/Motor-Vehicle-Collisions-Crashes/h9gi-nx95\n",
    "\n",
    "Date Range: 8/12/2020 to 8/12/2023\n",
    "\n",
    "https://data.cityofnewyork.us/Public-Safety/Motor-Vehicle-Collisions-Crashes/h9gi-nx95/explore/query/SELECT%0A%20%20%60crash_date%60%2C%0A%20%20%60crash_time%60%2C%0A%20%20%60borough%60%2C%0A%20%20%60zip_code%60%2C%0A%20%20%60latitude%60%2C%0A%20%20%60longitude%60%2C%0A%20%20%60location%60%2C%0A%20%20%60on_street_name%60%2C%0A%20%20%60off_street_name%60%2C%0A%20%20%60cross_street_name%60%2C%0A%20%20%60number_of_persons_injured%60%2C%0A%20%20%60number_of_persons_killed%60%2C%0A%20%20%60number_of_pedestrians_injured%60%2C%0A%20%20%60number_of_pedestrians_killed%60%2C%0A%20%20%60number_of_cyclist_injured%60%2C%0A%20%20%60number_of_cyclist_killed%60%2C%0A%20%20%60number_of_motorist_injured%60%2C%0A%20%20%60number_of_motorist_killed%60%2C%0A%20%20%60contributing_factor_vehicle_1%60%2C%0A%20%20%60contributing_factor_vehicle_2%60%2C%0A%20%20%60contributing_factor_vehicle_3%60%2C%0A%20%20%60contributing_factor_vehicle_4%60%2C%0A%20%20%60contributing_factor_vehicle_5%60%2C%0A%20%20%60collision_id%60%2C%0A%20%20%60vehicle_type_code1%60%2C%0A%20%20%60vehicle_type_code2%60%2C%0A%20%20%60vehicle_type_code_3%60%2C%0A%20%20%60vehicle_type_code_4%60%2C%0A%20%20%60vehicle_type_code_5%60%0AWHERE%0A%20%20%60crash_date%60%0A%20%20%20%20BETWEEN%20%222021-08-12T12%3A48%3A16%22%20%3A%3A%20floating_timestamp%0A%20%20%20%20AND%20%222023-08-12T12%3A48%3A16%22%20%3A%3A%20floating_timestamp/page/filter\n",
    "\n",
    "\n"
   ]
  },
  {
   "cell_type": "code",
   "execution_count": null,
   "id": "b9d10772",
   "metadata": {},
   "outputs": [],
   "source": [
    "#Three libraries to bring at the onset\n",
    "\n",
    "import pandas as pd\n",
    "import numpy as np\n",
    "import matplotlib\n",
    "import matplotlib.pyplot as plt\n",
    "matplotlib.style.use('ggplot')\n",
    "%matplotlib inline\n",
    "import seaborn as sns\n",
    "import plotly.express as px\n",
    "import plotly.graph_objects as go"
   ]
  },
  {
   "cell_type": "code",
   "execution_count": null,
   "id": "a90dd99f",
   "metadata": {},
   "outputs": [],
   "source": [
    "\n",
    "df = pd.read_csv(r'C:\\Users\\charl\\OneDrive\\Documents\\Training\\LaGuardia\\Python\\Motor_Vehicle_Collisions_Crashes.csv')"
   ]
  },
  {
   "cell_type": "code",
   "execution_count": null,
   "id": "55b67cf3",
   "metadata": {},
   "outputs": [],
   "source": [
    "df.head(5)"
   ]
  },
  {
   "cell_type": "code",
   "execution_count": null,
   "id": "4318c81d",
   "metadata": {
    "scrolled": false
   },
   "outputs": [],
   "source": [
    "df.columns"
   ]
  },
  {
   "cell_type": "markdown",
   "id": "1f763f6b",
   "metadata": {},
   "source": [
    "I noticed Zip Code in the data set. Thus, I searched and found a file that maps the city zip codes to the neighborhood names. The data also contained the population & density size for each zip code. I'd use this info. later on.\n",
    "\n",
    "https://data.beta.nyc/en/dataset/pediacities-nyc-neighborhoods/resource/7caac650-d082-4aea-9f9b-3681d568e8a5  "
   ]
  },
  {
   "cell_type": "code",
   "execution_count": null,
   "id": "33450ccc",
   "metadata": {},
   "outputs": [],
   "source": [
    "df_zip = pd.read_csv(r'C:\\Users\\charl\\OneDrive\\Documents\\Training\\LaGuardia\\Python\\nyc_zip_neighborhoods_pop.csv')"
   ]
  },
  {
   "cell_type": "markdown",
   "id": "af2be293",
   "metadata": {},
   "source": [
    "     "
   ]
  },
  {
   "cell_type": "code",
   "execution_count": null,
   "id": "dcd3ab86",
   "metadata": {
    "scrolled": true
   },
   "outputs": [],
   "source": [
    "df.describe()"
   ]
  },
  {
   "cell_type": "code",
   "execution_count": null,
   "id": "f48534d0",
   "metadata": {},
   "outputs": [],
   "source": [
    "df.dtypes"
   ]
  },
  {
   "cell_type": "code",
   "execution_count": null,
   "id": "ff1f728b",
   "metadata": {},
   "outputs": [],
   "source": [
    "# I wanted to see how many records are in the data set.\n",
    "df.shape[0]"
   ]
  },
  {
   "cell_type": "code",
   "execution_count": null,
   "id": "bc7d2ec1",
   "metadata": {
    "scrolled": false
   },
   "outputs": [],
   "source": [
    "# I explored unique values in some of the columns that intrigued my interest.\n",
    "\n",
    "df['VEHICLE TYPE CODE 1'].unique()                       "
   ]
  },
  {
   "cell_type": "code",
   "execution_count": null,
   "id": "72a5619d",
   "metadata": {},
   "outputs": [],
   "source": []
  },
  {
   "cell_type": "code",
   "execution_count": null,
   "id": "fa75d3cb",
   "metadata": {},
   "outputs": [],
   "source": []
  },
  {
   "cell_type": "markdown",
   "id": "bbc63e5d",
   "metadata": {},
   "source": [
    "I wanted to create a column that adds up the items across multiple columns. The following codes helped me do exactly that. I counted the number of vehicles involved in each incident."
   ]
  },
  {
   "cell_type": "code",
   "execution_count": null,
   "id": "299a6f20",
   "metadata": {},
   "outputs": [],
   "source": [
    "df['TOTAL VEHICLES INVOLVED'] = df[['VEHICLE TYPE CODE 1', 'VEHICLE TYPE CODE 2', 'VEHICLE TYPE CODE 3','VEHICLE TYPE CODE 4', 'VEHICLE TYPE CODE 5']].count(axis=1) "
   ]
  },
  {
   "cell_type": "code",
   "execution_count": null,
   "id": "c9eb96e7",
   "metadata": {},
   "outputs": [],
   "source": [
    "df.head(5)"
   ]
  },
  {
   "cell_type": "markdown",
   "id": "ca3c8c71",
   "metadata": {},
   "source": [
    "Again, I wanted to create a column that adds up the items across multiple columns. I add up the number of factors that caused each incident."
   ]
  },
  {
   "cell_type": "code",
   "execution_count": null,
   "id": "9088eb15",
   "metadata": {},
   "outputs": [],
   "source": [
    "df['TOTAL CONTRIBUTING FACTORS'] = df[['CONTRIBUTING FACTOR VEHICLE 1', 'CONTRIBUTING FACTOR VEHICLE 2', 'CONTRIBUTING FACTOR VEHICLE 3','CONTRIBUTING FACTOR VEHICLE 4', 'CONTRIBUTING FACTOR VEHICLE 5']].count(axis=1) "
   ]
  },
  {
   "cell_type": "code",
   "execution_count": null,
   "id": "3e5a1b83",
   "metadata": {},
   "outputs": [],
   "source": [
    "df.head(5)"
   ]
  },
  {
   "cell_type": "markdown",
   "id": "8c15683b",
   "metadata": {},
   "source": [
    "I also wanted to create a column that extracted the year from CRASH DATE, whose data type was a string. Thus. I extracted the last four characters from each cell."
   ]
  },
  {
   "cell_type": "code",
   "execution_count": null,
   "id": "0161d69b",
   "metadata": {},
   "outputs": [],
   "source": [
    "df['YEAR'] = df['CRASH DATE'].str[-4:]"
   ]
  },
  {
   "cell_type": "code",
   "execution_count": null,
   "id": "8cc1d1ad",
   "metadata": {},
   "outputs": [],
   "source": [
    "df.head(5)"
   ]
  },
  {
   "cell_type": "markdown",
   "id": "780bcd61",
   "metadata": {},
   "source": [
    "I needed to join the zip code to the name, population size and density to each neighborhood in the file, nyc_zip_neighborhoods_pop.csv. "
   ]
  },
  {
   "cell_type": "code",
   "execution_count": null,
   "id": "06e39b9e",
   "metadata": {},
   "outputs": [],
   "source": [
    "df2 = df.set_index('ZIP CODE').join(df_zip.set_index('ZIP CODE'), how='inner')\n"
   ]
  },
  {
   "cell_type": "code",
   "execution_count": null,
   "id": "e8c15981",
   "metadata": {
    "scrolled": false
   },
   "outputs": [],
   "source": [
    "df2.head(5)"
   ]
  },
  {
   "cell_type": "code",
   "execution_count": null,
   "id": "4091462e",
   "metadata": {},
   "outputs": [],
   "source": [
    "df2.columns"
   ]
  },
  {
   "cell_type": "markdown",
   "id": "ea28a77e",
   "metadata": {},
   "source": [
    "I aggregated first by Borough."
   ]
  },
  {
   "cell_type": "code",
   "execution_count": null,
   "id": "e2458985",
   "metadata": {},
   "outputs": [],
   "source": [
    "df3 = df2.groupby(['BOROUGH'])\\\n",
    "                      .agg(\n",
    "                        Incidents = ('COLLISION_ID', 'count'),\n",
    "                        Neighborhoods = ('NEIGHBORHOOD', 'nunique'),\n",
    "                        Injured = ('NUMBER OF PERSONS INJURED', 'sum'),\n",
    "                        Killed = ('NUMBER OF PERSONS KILLED', 'sum'),\n",
    "                        Pedestrian_Injured = ('NUMBER OF PEDESTRIANS INJURED', 'sum'),\n",
    "                        Pedestrian_Killed = ('NUMBER OF PEDESTRIANS KILLED', 'sum'),\n",
    "                        Cyclist_Injured = ('NUMBER OF CYCLIST INJURED', 'sum'),\n",
    "                        Cyclist_killed = ('NUMBER OF CYCLIST KILLED', 'sum'),\n",
    "                        Motorist_Injured = ('NUMBER OF MOTORIST INJURED', 'sum'),    \n",
    "                        Motorist_Killed = ('NUMBER OF MOTORIST KILLED', 'sum'),\n",
    "                        AVG_Neighborhood_Population = ('POPULATION', 'mean'),\n",
    "                        AVG_Neighborhood_Density = ('DENSITY', 'mean')\n",
    "                          )"
   ]
  },
  {
   "cell_type": "code",
   "execution_count": null,
   "id": "409e3a23",
   "metadata": {},
   "outputs": [],
   "source": [
    "df3=df3.reset_index() # Must add this statement to create an index after aggregation"
   ]
  },
  {
   "cell_type": "code",
   "execution_count": null,
   "id": "88557727",
   "metadata": {},
   "outputs": [],
   "source": [
    "df3"
   ]
  },
  {
   "cell_type": "markdown",
   "id": "ac2f0664",
   "metadata": {},
   "source": [
    "I went deeper by aggregating by Borough, Neighborhood and Zip Code."
   ]
  },
  {
   "cell_type": "code",
   "execution_count": null,
   "id": "ed997084",
   "metadata": {},
   "outputs": [],
   "source": [
    "df3a = df2.groupby(['BOROUGH','NEIGHBORHOOD','ZIP CODE'])\\\n",
    "                      .agg(\n",
    "                        Incidents = ('COLLISION_ID', 'count'),\n",
    "                        Neighborhoods = ('NEIGHBORHOOD', 'nunique'),\n",
    "                        Injured = ('NUMBER OF PERSONS INJURED', 'sum'),\n",
    "                        Killed = ('NUMBER OF PERSONS KILLED', 'sum'),\n",
    "                        Pedestrian_Injured = ('NUMBER OF PEDESTRIANS INJURED', 'sum'),\n",
    "                        Pedestrian_Killed = ('NUMBER OF PEDESTRIANS KILLED', 'sum'),\n",
    "                        Cyclist_Injured = ('NUMBER OF CYCLIST INJURED', 'sum'),\n",
    "                        Cyclist_killed = ('NUMBER OF CYCLIST KILLED', 'sum'),\n",
    "                        Motorist_Injured = ('NUMBER OF MOTORIST INJURED', 'sum'),    \n",
    "                        Motorist_Killed = ('NUMBER OF MOTORIST KILLED', 'sum'),\n",
    "                        AVG_Neighborhood_Population = ('POPULATION', 'mean'),\n",
    "                        AVG_Neighborhood_Density = ('DENSITY', 'mean')\n",
    "                          )"
   ]
  },
  {
   "cell_type": "code",
   "execution_count": null,
   "id": "f629ec96",
   "metadata": {},
   "outputs": [],
   "source": [
    "df3a=df3a.reset_index() # Must add this statement to create an index after aggregation"
   ]
  },
  {
   "cell_type": "code",
   "execution_count": null,
   "id": "91a1f2f5",
   "metadata": {},
   "outputs": [],
   "source": [
    "df3a.sort_values(by='AVG_Neighborhood_Density', ascending=False)"
   ]
  },
  {
   "cell_type": "markdown",
   "id": "bd474cd5",
   "metadata": {},
   "source": [
    "I wanted to see if there was any correlation in the neighborhood's density and people getting injured. I created two maps to see side by side."
   ]
  },
  {
   "cell_type": "code",
   "execution_count": null,
   "id": "ab0ee6ea",
   "metadata": {},
   "outputs": [],
   "source": [
    "df3b = df3a[['ZIP CODE', 'NEIGHBORHOOD','BOROUGH','Injured','Killed','Pedestrian_Injured','Pedestrian_Killed','Cyclist_Injured','Cyclist_killed','Motorist_Injured','Motorist_Killed']]"
   ]
  },
  {
   "cell_type": "markdown",
   "id": "6ce66900",
   "metadata": {},
   "source": [
    "I searched online and found a visualization via Plotly that maps NYC zip code to the geo coordinates. \n",
    "\n",
    "https://github.com/OpenDataDE/State-zip-code-GeoJSON/blob/master/ny_new_york_zip_codes_geo.min.json\n",
    "\n",
    "Then, I used the total injuries as the scale in my heat map. "
   ]
  },
  {
   "cell_type": "code",
   "execution_count": null,
   "id": "cf880fb6",
   "metadata": {},
   "outputs": [],
   "source": [
    "\n",
    "\n",
    "from urllib.request import urlopen\n",
    "import json\n",
    "with urlopen('https://raw.githubusercontent.com/OpenDataDE/State-zip-code-GeoJSON/master/ny_new_york_zip_codes_geo.min.json') as response:\n",
    "    counties = json.load(response)\n",
    "    \n",
    "    fig = px.choropleth(df3b, \n",
    "                    geojson=counties, \n",
    "                    locations='ZIP CODE', \n",
    "                    color='Injured',\n",
    "                    color_continuous_scale=\"Viridis\",\n",
    "                    range_color=(1,750),\n",
    "                    featureidkey=\"properties.ZCTA5CE10\",\n",
    "                    #scope=\"usa\",\n",
    "                    labels={'Injured':'Injured'}\n",
    "                          )\n",
    "fig.update_geos(fitbounds=\"locations\", visible=False)\n",
    "fig.update_layout(margin={\"r\":0,\"t\":0,\"l\":0,\"b\":0})"
   ]
  },
  {
   "cell_type": "markdown",
   "id": "dcc147d2",
   "metadata": {},
   "source": [
    "I replicated the chart, but this time, used the Average Neighborhood desity as the measure. The chart did not support the hypothesis that injuries were more common in densely populated neighbordhoods."
   ]
  },
  {
   "cell_type": "code",
   "execution_count": null,
   "id": "168d7486",
   "metadata": {},
   "outputs": [],
   "source": [
    "from urllib.request import urlopen\n",
    "import json\n",
    "with urlopen('https://raw.githubusercontent.com/OpenDataDE/State-zip-code-GeoJSON/master/ny_new_york_zip_codes_geo.min.json') as response:\n",
    "    counties = json.load(response)\n",
    "    \n",
    "    fig = px.choropleth(df3a, \n",
    "                    geojson=counties, \n",
    "                    locations='ZIP CODE', \n",
    "                    color='AVG_Neighborhood_Density',\n",
    "                    color_continuous_scale=\"Viridis\",\n",
    "                    range_color=(1,150000),\n",
    "                    featureidkey=\"properties.ZCTA5CE10\",\n",
    "                    #scope=\"usa\",\n",
    "                    labels={'Density':'Density'}\n",
    "                          )\n",
    "fig.update_geos(fitbounds=\"locations\", visible=False)\n",
    "fig.update_layout(margin={\"r\":0,\"t\":0,\"l\":0,\"b\":0})"
   ]
  },
  {
   "cell_type": "markdown",
   "id": "b0a3e3d4",
   "metadata": {},
   "source": [
    "There was virtually no correlation between the density and the injuries."
   ]
  },
  {
   "cell_type": "code",
   "execution_count": null,
   "id": "153cd340",
   "metadata": {},
   "outputs": [],
   "source": [
    "corr = df3a['Injured'].corr(df3a['AVG_Neighborhood_Density'])"
   ]
  },
  {
   "cell_type": "code",
   "execution_count": null,
   "id": "e560ca60",
   "metadata": {},
   "outputs": [],
   "source": [
    "corr"
   ]
  },
  {
   "cell_type": "code",
   "execution_count": null,
   "id": "7f743dca",
   "metadata": {},
   "outputs": [],
   "source": [
    "print (\"Correlation between \", 'Injured', \" and \", 'AVG_Neighborhood_Density', \"is: \", round(corr, 2))"
   ]
  },
  {
   "cell_type": "code",
   "execution_count": null,
   "id": "8a226e30",
   "metadata": {},
   "outputs": [],
   "source": [
    "corr1 = df3a['Killed'].corr(df3a['AVG_Neighborhood_Density'])"
   ]
  },
  {
   "cell_type": "code",
   "execution_count": null,
   "id": "581d3d89",
   "metadata": {},
   "outputs": [],
   "source": [
    "corr1"
   ]
  },
  {
   "cell_type": "code",
   "execution_count": null,
   "id": "7332e24d",
   "metadata": {},
   "outputs": [],
   "source": [
    "print (\"Correlation between \", 'Killed', \" and \", 'AVG_Neighborhood_Density', \"is: \", round(corr1, 2))"
   ]
  },
  {
   "cell_type": "code",
   "execution_count": null,
   "id": "5ab4e1cf",
   "metadata": {},
   "outputs": [],
   "source": []
  },
  {
   "cell_type": "code",
   "execution_count": null,
   "id": "d0461a16",
   "metadata": {},
   "outputs": [],
   "source": []
  },
  {
   "cell_type": "code",
   "execution_count": null,
   "id": "c7523a35",
   "metadata": {},
   "outputs": [],
   "source": []
  },
  {
   "cell_type": "code",
   "execution_count": null,
   "id": "2adafd5b",
   "metadata": {},
   "outputs": [],
   "source": []
  },
  {
   "cell_type": "code",
   "execution_count": null,
   "id": "97fb46e3",
   "metadata": {},
   "outputs": [],
   "source": []
  },
  {
   "cell_type": "code",
   "execution_count": null,
   "id": "ffbf2cf5",
   "metadata": {},
   "outputs": [],
   "source": []
  },
  {
   "cell_type": "code",
   "execution_count": null,
   "id": "f381b1f2",
   "metadata": {},
   "outputs": [],
   "source": []
  },
  {
   "cell_type": "markdown",
   "id": "f5714359",
   "metadata": {},
   "source": [
    "Appendix:"
   ]
  },
  {
   "cell_type": "code",
   "execution_count": null,
   "id": "cadbd4dd",
   "metadata": {},
   "outputs": [],
   "source": [
    "df4 = df2.groupby(['BOROUGH','NEIGHBORHOOD'])\\\n",
    "                      .agg(\n",
    "                        Incidents = ('COLLISION_ID', 'count'),\n",
    "                        Neighborhoods = ('NEIGHBORHOOD', 'nunique'),\n",
    "                        Injured = ('NUMBER OF PERSONS INJURED', 'sum'),\n",
    "                        Killed = ('NUMBER OF PERSONS KILLED', 'sum'),\n",
    "                        Pedestrian_Injured = ('NUMBER OF PEDESTRIANS INJURED', 'sum'),\n",
    "                        Pedestrian_Killed = ('NUMBER OF PEDESTRIANS KILLED', 'sum'),\n",
    "                        Cyclist_Injured = ('NUMBER OF CYCLIST INJURED', 'sum'),\n",
    "                        Cyclist_killed = ('NUMBER OF CYCLIST KILLED', 'sum'),\n",
    "                        Motorist_Injured = ('NUMBER OF MOTORIST INJURED', 'sum'),    \n",
    "                        Motorist_Killed = ('NUMBER OF MOTORIST KILLED', 'sum'),    \n",
    "                        AVG_Vehicles_Involved = ('TOTAL VEHICLES INVOLVED', 'mean'),    \n",
    "                        AVG_Contributing_Factors = ('TOTAL CONTRIBUTING FACTORS', 'mean'),\n",
    "                        AVG_Neighborhood_Population = ('POPULATION', 'mean'),\n",
    "                        AVG_Neighborhood_Density = ('DENSITY', 'mean')\n",
    "                          )"
   ]
  },
  {
   "cell_type": "code",
   "execution_count": null,
   "id": "2f1841cf",
   "metadata": {},
   "outputs": [],
   "source": [
    "df4=df4.reset_index() # Must add this statement to create an index after aggregation"
   ]
  },
  {
   "cell_type": "code",
   "execution_count": null,
   "id": "7fe484b7",
   "metadata": {},
   "outputs": [],
   "source": [
    "df4.head()"
   ]
  },
  {
   "cell_type": "code",
   "execution_count": null,
   "id": "e8680f6f",
   "metadata": {},
   "outputs": [],
   "source": []
  },
  {
   "cell_type": "code",
   "execution_count": null,
   "id": "4ae39abe",
   "metadata": {},
   "outputs": [],
   "source": [
    "df2[df['CONTRIBUTING FACTOR VEHICLE 1'] == 'Driver Inattention/Distraction']"
   ]
  },
  {
   "cell_type": "code",
   "execution_count": null,
   "id": "4c10dbd6",
   "metadata": {},
   "outputs": [],
   "source": []
  },
  {
   "cell_type": "code",
   "execution_count": null,
   "id": "7d9f9ecd",
   "metadata": {},
   "outputs": [],
   "source": [
    "df5 = df2.groupby(['YEAR', 'BOROUGH','NEIGHBORHOOD'])\\\n",
    "                      .agg(\n",
    "                        Incidents = ('COLLISION_ID', 'count'),\n",
    "                        Days = ('CRASH DATE', 'nunique'),\n",
    "                        Injured = ('NUMBER OF PERSONS INJURED', 'sum'),\n",
    "                        Killed = ('NUMBER OF PERSONS KILLED', 'sum'),\n",
    "                        Pedestrian_Injured = ('NUMBER OF PEDESTRIANS INJURED', 'sum'),\n",
    "                        Pedestrian_Killed = ('NUMBER OF PEDESTRIANS KILLED', 'sum'),\n",
    "                        Cyclist_Injured = ('NUMBER OF CYCLIST INJURED', 'sum'),\n",
    "                        Cyclist_killed = ('NUMBER OF CYCLIST KILLED', 'sum'),\n",
    "                        Motorist_Injured = ('NUMBER OF MOTORIST INJURED', 'sum'),    \n",
    "                        Motorist_Killed = ('NUMBER OF MOTORIST KILLED', 'sum'),    \n",
    "                        AVG_Vehicles_Involved = ('TOTAL VEHICLES INVOLVED', 'mean'),    \n",
    "                        AVG_Contributing_Factors = ('TOTAL CONTRIBUTING FACTORS', 'mean'),\n",
    "                        Population = ('POPULATION', 'mean'),\n",
    "                        Density = ('DENSITY', 'mean')\n",
    "                          )"
   ]
  },
  {
   "cell_type": "code",
   "execution_count": null,
   "id": "1eca1c81",
   "metadata": {},
   "outputs": [],
   "source": [
    "df5=df5.reset_index() # Must add this statement to create an index after aggregation"
   ]
  },
  {
   "cell_type": "code",
   "execution_count": null,
   "id": "a4c15125",
   "metadata": {},
   "outputs": [],
   "source": [
    "df5.head()"
   ]
  },
  {
   "cell_type": "code",
   "execution_count": null,
   "id": "9ee31e06",
   "metadata": {},
   "outputs": [],
   "source": []
  },
  {
   "cell_type": "code",
   "execution_count": null,
   "id": "88bf555d",
   "metadata": {},
   "outputs": [],
   "source": [
    "df6 = df2.groupby(['YEAR', 'BOROUGH','NEIGHBORHOOD','CONTRIBUTING FACTOR VEHICLE 1'])\\\n",
    "                      .agg(\n",
    "                        Incidents = ('COLLISION_ID', 'count'),\n",
    "                        Days = ('CRASH DATE', 'nunique'),\n",
    "                        Injured = ('NUMBER OF PERSONS INJURED', 'sum'),\n",
    "                        Killed = ('NUMBER OF PERSONS KILLED', 'sum'),\n",
    "                        Pedestrian_Injured = ('NUMBER OF PEDESTRIANS INJURED', 'sum'),\n",
    "                        Pedestrian_Killed = ('NUMBER OF PEDESTRIANS KILLED', 'sum'),\n",
    "                        Cyclist_Injured = ('NUMBER OF CYCLIST INJURED', 'sum'),\n",
    "                        Cyclist_killed = ('NUMBER OF CYCLIST KILLED', 'sum'),\n",
    "                        Motorist_Injured = ('NUMBER OF MOTORIST INJURED', 'sum'),    \n",
    "                        Motorist_Killed = ('NUMBER OF MOTORIST KILLED', 'sum'),    \n",
    "                        AVG_Vehicles_Involved = ('TOTAL VEHICLES INVOLVED', 'mean'),    \n",
    "                        AVG_Contributing_Factors = ('TOTAL CONTRIBUTING FACTORS', 'mean'),\n",
    "                        Population = ('POPULATION', 'mean'),\n",
    "                        Density = ('DENSITY', 'mean')\n",
    "                          )"
   ]
  },
  {
   "cell_type": "code",
   "execution_count": null,
   "id": "030379a1",
   "metadata": {},
   "outputs": [],
   "source": [
    "df6=df6.reset_index() # Must add this statement to create an index after aggregation"
   ]
  },
  {
   "cell_type": "code",
   "execution_count": null,
   "id": "36cb7ae5",
   "metadata": {},
   "outputs": [],
   "source": [
    "df6.head()"
   ]
  },
  {
   "cell_type": "code",
   "execution_count": null,
   "id": "b160be28",
   "metadata": {},
   "outputs": [],
   "source": []
  },
  {
   "cell_type": "code",
   "execution_count": null,
   "id": "019895c4",
   "metadata": {},
   "outputs": [],
   "source": [
    "df.groupby(['contributing_factor_vehicle_1','borough'])['crash_date'].count()"
   ]
  },
  {
   "cell_type": "code",
   "execution_count": null,
   "id": "f7b24976",
   "metadata": {},
   "outputs": [],
   "source": [
    "df.groupby(['CONTRIBUTING FACTOR VEHICLE 1','BOROUGH'])['NUMBER OF PERSONS KILLED'].count()"
   ]
  },
  {
   "cell_type": "code",
   "execution_count": null,
   "id": "d0c42712",
   "metadata": {},
   "outputs": [],
   "source": []
  },
  {
   "cell_type": "code",
   "execution_count": null,
   "id": "a35cb64f",
   "metadata": {},
   "outputs": [],
   "source": []
  },
  {
   "cell_type": "code",
   "execution_count": null,
   "id": "ab54f486",
   "metadata": {},
   "outputs": [],
   "source": []
  },
  {
   "cell_type": "code",
   "execution_count": null,
   "id": "20a336b5",
   "metadata": {},
   "outputs": [],
   "source": []
  },
  {
   "cell_type": "code",
   "execution_count": null,
   "id": "7bd90c47",
   "metadata": {
    "scrolled": true
   },
   "outputs": [],
   "source": []
  },
  {
   "cell_type": "code",
   "execution_count": null,
   "id": "c5f66f71",
   "metadata": {
    "scrolled": false
   },
   "outputs": [],
   "source": [
    "df.value_counts(['VEHICLE TYPE CODE 1', 'VEHICLE TYPE CODE 2', 'VEHICLE TYPE CODE 3','VEHICLE TYPE CODE 4', 'VEHICLE TYPE CODE 5'])"
   ]
  }
 ],
 "metadata": {
  "kernelspec": {
   "display_name": "Python 3 (ipykernel)",
   "language": "python",
   "name": "python3"
  },
  "language_info": {
   "codemirror_mode": {
    "name": "ipython",
    "version": 3
   },
   "file_extension": ".py",
   "mimetype": "text/x-python",
   "name": "python",
   "nbconvert_exporter": "python",
   "pygments_lexer": "ipython3",
   "version": "3.10.9"
  }
 },
 "nbformat": 4,
 "nbformat_minor": 5
}
